{
  "nbformat": 4,
  "nbformat_minor": 0,
  "metadata": {
    "colab": {
      "name": "Off-Policy-Learning-with-Importance-Sampling.ipynb",
      "provenance": [],
      "collapsed_sections": [],
      "toc_visible": true,
      "authorship_tag": "ABX9TyN1TJPNr3VcxSO2WBg/sOcp",
      "include_colab_link": true
    },
    "kernelspec": {
      "name": "python3",
      "display_name": "Python 3"
    }
  },
  "cells": [
    {
      "cell_type": "markdown",
      "metadata": {
        "id": "view-in-github",
        "colab_type": "text"
      },
      "source": [
        "<a href=\"https://colab.research.google.com/github/shangeth/Monte-Carlo-Prediction/blob/master/Off_Policy_Learning_with_Importance_Sampling.ipynb\" target=\"_parent\"><img src=\"https://colab.research.google.com/assets/colab-badge.svg\" alt=\"Open In Colab\"/></a>"
      ]
    },
    {
      "cell_type": "markdown",
      "metadata": {
        "id": "Oew_X1sC_qHb",
        "colab_type": "text"
      },
      "source": [
        "# Off-Policy Monte Carlo with Importance Sampling\n",
        "## Off Policy Learning\n",
        "\n",
        "By exploration-exploitation trade-off, the agent should take sub-optimal exploratory action by which the agent may receive less reward. One way of exploration is by using an epsilon-greedy policy, where the agent takes a nongreedy action with a small probability.\n",
        "\n",
        "In an on-policy, improvement and evaluation are done on the policy which is used to select actions.\n",
        "\n",
        "In off-policy, improvement and evaluation are done on a different policy from the one used to select actions. the policy learned is off the policy used for action selection while gathering episodes.\n",
        "\n",
        "- Target Policy $\\pi(a/s)$ : The value function of learning is based on $\\pi(a/s)$. We want the target policy to be the optimal policy $\\pi^{*}(a/s)$. The target policy will be used for action selection after the learning process is complete(deployment).\n",
        "- Behavior Policy $b(a/s)$: Behavior policy is used for action selection while gathering episodes to train the agent. This generally follows an exploratory policy."
      ]
    },
    {
      "cell_type": "markdown",
      "metadata": {
        "id": "stg4_5fC7GKi",
        "colab_type": "text"
      },
      "source": [
        "## Importance Sampling\n",
        "\n",
        "We have a random variable $x \\sim b$ sampled from behavior policy distribution $b$. We want to estimate the expected value of $x$ wrt the target distribution $\\pi$ ie: $E_{\\pi}[X]$. The sample average will give the expected value of x under b $E_{b}[X]$.\n",
        "\n",
        "$E_{\\pi}[X] = \\sum x \\pi(x)$ where $x \\in X$\n",
        "\n",
        "$ \\qquad = \\sum x \\pi(x) \\dfrac{b(x)}{b(x)}$\n",
        "\n",
        "$ \\qquad = \\sum x \\dfrac{\\pi(x)}{b(x)} b(x)$\n",
        "\n",
        "$ \\qquad = \\sum x \\rho(x) b(x)$ \n",
        "\n",
        "where $\\rho(x) = \\dfrac{\\pi(x)}{b(x)}$ and is called the importance sampling ratio.\n",
        "\n",
        "\\\n",
        "Let $x\\rho(x)$ be a new random variable $X_\\rho(X)$.\n",
        "Then, $E_{\\pi}[X] = \\sum x \\rho(x) b(x) = E_{b}[X_{\\rho}(X)]$. Now we have expectation under $b$ instead of $\\pi$.\n",
        "\n",
        "\\\n",
        "### How do we estimating expectation from the data? \n",
        "Compute the weighted sample average with importance sampling ratio as the weights.\n",
        "$E_{\\pi}[X] = \\sum x \\rho(x) b(x) = E_{b}[X_{\\rho}(X)] \\approx \\dfrac{1}{n}\\sum_{i=1}^{n}x_i \\rho(x_i)$ and $x_i \\sim b$"
      ]
    },
    {
      "cell_type": "markdown",
      "metadata": {
        "id": "XtDmO2Yv7KXO",
        "colab_type": "text"
      },
      "source": [
        "\n",
        "## Off Policy Monte Carlo Prediction with Importance Sampling\n",
        "\n",
        "In Monte Carlo prediction, we estimate the value of each state by computing a sample average over returns starting from that state. $V_{\\pi}(s) = E_{\\pi}[G_t|S_t=s]$\n",
        "\n",
        "\\\n",
        "In off-policy, we are trying to estimate value under the target policy $\\pi(s)$ using returns following the behavior policy $b(s)$. As discussed above, we need to find the value of $\\rho$ for each of the sampled returns. $\\rho$ is the probability of trajectory under $\\pi$ divided by the probability of trajectory under $b$.\n",
        "\n",
        "$V_{\\pi}(s) = E_{b}[\\rho G_t|S_t=s]$ ; $\\rho = \\dfrac{P(trajectory\\ under\\ \\pi)}{P(trajectory\\ under\\ b)}$\n",
        "\n",
        "\\\n",
        "The probaility of a trajectory under a policy can be given by\n",
        "$P(trajectory\\ under\\ policy) = P(A_t, S_{t+1}, A_{t+1}, ..., S_T| S_t, A_{t:T})$\n",
        "\n",
        "where all actions are taken under the policy $b$.\n",
        "\n",
        "\\\n",
        "As this is a Markov process, we can split the probability terms into\n",
        "\n",
        "$P(A_t, S_{t+1}, A_{t+1}, ..., S_T| S_t, A_{t:T}) = b(A_t|S_t)p(S_{t+1}|S_t, A_t)*b(A_{t+1}|S_{t+1}) p(S_{t+2}|S_{t+1}, A_{t+1})*...p(S_{T}|S_{T-1}, A_{T-1})$\n",
        "\n",
        "\\\n",
        "$b(A_t|S_t)p(S_{t+1}|S_t, A_t)$ give the probability of action $A_t$ at state $S_t$ times the probability of the state transition to state $S_{t+1}$\n",
        "\n",
        "$P(A_t, S_{t+1}, A_{t+1}, ..., S_T| S_t, A_{t:T}) = \\prod_{k=1}^{T} b(A_k|S_k)p(S_{k+1}|S_k, A_k)$\n",
        "\n",
        "\n",
        "$\\rho = \\dfrac{P(trajectory\\ under\\ \\pi)}{P(trajectory\\ under\\ b)}$\n",
        "\n",
        "$\\quad = \\prod_{k=t}^{T-1}\\dfrac{\\pi(A_k|S_k)p(S_{k+1}|S_k, A_k)}{b(A_k|S_k)p(S_{k+1}|S_k, A_k)}$\n",
        "\n",
        "$\\rho = \\prod_{k=t}^{T-1}\\dfrac{\\pi(A_k|S_k)}{b(A_k|S_k)}$"
      ]
    },
    {
      "cell_type": "markdown",
      "metadata": {
        "id": "OSvvBKDn8XAH",
        "colab_type": "text"
      },
      "source": [
        "## Incremental Implementation of Off-policy MC\n",
        "\n",
        "Suppose we have a sequence of returns $G_1, G_2, ...G_{n-1}$ all starting in the same state and with corresponding weights $W_i$, then the weighted average of returns $V_n = \\dfrac{\\sum_{k=1}^{n-1} W_kG_k}{\\sum_{k=1}^{n-1} W_k}$ , $n \\geq 2$ and the cumulative sum of weights $C_{n+1} = C_n + W_{n+1}$ where $C_0 = 0$.\n",
        "\n",
        "The update rule for $V_{n+1} = V_n + \\dfrac{W_n}{C_n}[G_n-V_n]$, $n \\geq 1$ and $V_1$ is arbitrary.\n",
        "\n",
        "Here $W_n$ will be the importance sampling weight."
      ]
    },
    {
      "cell_type": "markdown",
      "metadata": {
        "id": "5znOS4nEGSW_",
        "colab_type": "text"
      },
      "source": [
        "## Greedy $\\pi$ policy\n",
        "When the target policy $\\pi$ is $\\epsilon$ greedy, it is determenistic and $\\pi(A_t/S_t) = 1$ . So $\\rho = \\prod_{k=t}^{T-1}\\dfrac{1}{b(A_k|S_k)}$ and $W$ can be updated with $W \\leftarrow W \\dfrac{1}{b(A_t|S_t)}$ for each time step in the trajectory.\n",
        "\n",
        "So the Off policy Monte Carlo Control algorithm is\n",
        "![](https://i.stack.imgur.com/Xi0vX.png)"
      ]
    },
    {
      "cell_type": "markdown",
      "metadata": {
        "id": "81WGFwjmGdDu",
        "colab_type": "text"
      },
      "source": [
        "# Off-Policy MC Control with Weighted Importance in Python"
      ]
    },
    {
      "cell_type": "markdown",
      "metadata": {
        "id": "8eUqx_OVGsgT",
        "colab_type": "text"
      },
      "source": [
        "## BlackJack Environment"
      ]
    },
    {
      "cell_type": "code",
      "metadata": {
        "id": "49fKvqny_t2m",
        "colab_type": "code",
        "colab": {}
      },
      "source": [
        "import sys\n",
        "import gym\n",
        "import numpy as np\n",
        "from collections import defaultdict"
      ],
      "execution_count": 0,
      "outputs": []
    },
    {
      "cell_type": "code",
      "metadata": {
        "id": "6qLkSdg_GxZv",
        "colab_type": "code",
        "colab": {
          "base_uri": "https://localhost:8080/",
          "height": 88
        },
        "outputId": "97f78405-d378-44d6-93bd-b038fd84c4f1"
      },
      "source": [
        "env = gym.make('Blackjack-v0')\n",
        "\n",
        "print(vars(env), end='\\n\\n')\n",
        "print(dir(env))"
      ],
      "execution_count": 2,
      "outputs": [
        {
          "output_type": "stream",
          "text": [
            "{'action_space': Discrete(2), 'observation_space': Tuple(Discrete(32), Discrete(11), Discrete(2)), 'np_random': RandomState(MT19937) at 0x7FE1148D2888, 'natural': False, 'dealer': [10, 1], 'player': [10, 1], 'spec': EnvSpec(Blackjack-v0)}\n",
            "\n",
            "['__class__', '__delattr__', '__dict__', '__dir__', '__doc__', '__enter__', '__eq__', '__exit__', '__format__', '__ge__', '__getattribute__', '__gt__', '__hash__', '__init__', '__init_subclass__', '__le__', '__lt__', '__module__', '__ne__', '__new__', '__reduce__', '__reduce_ex__', '__repr__', '__setattr__', '__sizeof__', '__str__', '__subclasshook__', '__weakref__', '_get_obs', 'action_space', 'close', 'dealer', 'metadata', 'natural', 'np_random', 'observation_space', 'player', 'render', 'reset', 'reward_range', 'seed', 'spec', 'step', 'unwrapped']\n"
          ],
          "name": "stdout"
        }
      ]
    },
    {
      "cell_type": "code",
      "metadata": {
        "id": "cf6Dg3AfG4gl",
        "colab_type": "code",
        "colab": {
          "base_uri": "https://localhost:8080/",
          "height": 51
        },
        "outputId": "0a610258-e65e-4d66-e237-583ded33b16a"
      },
      "source": [
        "print(env.observation_space)\n",
        "print(env.action_space)"
      ],
      "execution_count": 3,
      "outputs": [
        {
          "output_type": "stream",
          "text": [
            "Tuple(Discrete(32), Discrete(11), Discrete(2))\n",
            "Discrete(2)\n"
          ],
          "name": "stdout"
        }
      ]
    },
    {
      "cell_type": "code",
      "metadata": {
        "id": "SSicC_S6G71P",
        "colab_type": "code",
        "colab": {
          "base_uri": "https://localhost:8080/",
          "height": 51
        },
        "outputId": "e9e7a5cd-8a6b-41ae-a454-89268edf16be"
      },
      "source": [
        "random_state = env.reset()\n",
        "print('Random State', random_state)\n",
        "\n",
        "random_action = env.action_space.sample()\n",
        "print('Random Action', random_action)"
      ],
      "execution_count": 4,
      "outputs": [
        {
          "output_type": "stream",
          "text": [
            "Random State (18, 2, False)\n",
            "Random Action 1\n"
          ],
          "name": "stdout"
        }
      ]
    },
    {
      "cell_type": "markdown",
      "metadata": {
        "id": "q4fqW7eGHH2x",
        "colab_type": "text"
      },
      "source": [
        "## Generate Random Eposides"
      ]
    },
    {
      "cell_type": "code",
      "metadata": {
        "id": "COOOYzTzG__T",
        "colab_type": "code",
        "colab": {
          "base_uri": "https://localhost:8080/",
          "height": 340
        },
        "outputId": "9ddb2495-14f7-4fe5-9398-43fe1c58a72c"
      },
      "source": [
        "num_episodes = 3\n",
        "\n",
        "for i in range(num_episodes):\n",
        "    print('Episode : ', i+1)\n",
        "    state = env.reset()\n",
        "    step = 0\n",
        "    while True:\n",
        "        step +=1\n",
        "        action = env.action_space.sample()\n",
        "        print('Step = {}\\t State = {}\\t Action Taken = {}'.format(step, state, action))\n",
        "        state, reward, done, info = env.step(action)\n",
        "        if done:\n",
        "            print('Game Ended...')\n",
        "            if reward > 0: print('Agent Won!\\n')\n",
        "            else: print('Agent Lost!\\n')\n",
        "            break"
      ],
      "execution_count": 5,
      "outputs": [
        {
          "output_type": "stream",
          "text": [
            "Episode :  1\n",
            "Step = 1\t State = (10, 7, False)\t Action Taken = 1\n",
            "Step = 2\t State = (21, 7, True)\t Action Taken = 1\n",
            "Step = 3\t State = (15, 7, False)\t Action Taken = 1\n",
            "Step = 4\t State = (18, 7, False)\t Action Taken = 0\n",
            "Game Ended...\n",
            "Agent Lost!\n",
            "\n",
            "Episode :  2\n",
            "Step = 1\t State = (20, 8, False)\t Action Taken = 0\n",
            "Game Ended...\n",
            "Agent Won!\n",
            "\n",
            "Episode :  3\n",
            "Step = 1\t State = (12, 7, False)\t Action Taken = 1\n",
            "Step = 2\t State = (15, 7, False)\t Action Taken = 0\n",
            "Game Ended...\n",
            "Agent Won!\n",
            "\n"
          ],
          "name": "stdout"
        }
      ]
    },
    {
      "cell_type": "markdown",
      "metadata": {
        "id": "lqsV12UeNqBW",
        "colab_type": "text"
      },
      "source": [
        "## Training "
      ]
    },
    {
      "cell_type": "code",
      "metadata": {
        "id": "NR-4Zh-1HM5S",
        "colab_type": "code",
        "colab": {}
      },
      "source": [
        "def random_policy(nA):\n",
        "    A = np.ones(nA, dtype=float) / nA\n",
        "    def policy_fn(observation):\n",
        "        return A\n",
        "    return policy_fn\n",
        "    \n",
        "def greedy_policy(Q):\n",
        "    def policy_fn(state):\n",
        "        A = np.zeros_like(Q[state], dtype=float)\n",
        "        best_action = np.argmax(Q[state])\n",
        "        A[best_action] = 1.0\n",
        "        return A\n",
        "    return policy_fn\n",
        "    \n",
        "def mc_off_policy(env, num_episodes, behavior_policy, max_time=100, discount_factor=1.0):\n",
        "    Q = defaultdict(lambda:np.zeros(env.action_space.n))\n",
        "    C = defaultdict(lambda:np.zeros(env.action_space.n))\n",
        "\n",
        "    target_policy = greedy_policy(Q)\n",
        "\n",
        "    for i_episode in range(1, num_episodes+1):\n",
        "        if i_episode % 1000 == 0:\n",
        "            print(\"\\rEpisode {}/{}.\".format(i_episode, num_episodes), end=\"\")\n",
        "            sys.stdout.flush()\n",
        "\n",
        "        episode = []\n",
        "        state = env.reset()\n",
        "        for t in range(max_time):\n",
        "            probs = behavior_policy(state)\n",
        "            action = np.random.choice(np.arange(len(probs)), p=probs)\n",
        "            next_state, reward, done, _ = env.step(action)\n",
        "            episode.append((state, action, reward))\n",
        "            if done:\n",
        "                break\n",
        "            state = next_state\n",
        "        \n",
        "        G = 0.0\n",
        "        W = 1.0\n",
        "        for t in range(len(episode))[::-1]:\n",
        "            state, action, reward = episode[t]\n",
        "            G = discount_factor * G + reward\n",
        "            C[state][action] += W\n",
        "            Q[state][action] += (W / C[state][action]) * (G - Q[state][action])\n",
        "            if action !=  np.argmax(target_policy(state)):\n",
        "                break\n",
        "            W = W * 1./behavior_policy(state)[action]\n",
        "    return Q, target_policy"
      ],
      "execution_count": 0,
      "outputs": []
    },
    {
      "cell_type": "code",
      "metadata": {
        "id": "0TIVjWz7JZsv",
        "colab_type": "code",
        "colab": {
          "base_uri": "https://localhost:8080/",
          "height": 34
        },
        "outputId": "066e3ba8-1782-4787-9dcb-1b6f77f72b25"
      },
      "source": [
        "random_policy = random_policy(env.action_space.n)\n",
        "Q, policy = mc_off_policy(env, num_episodes=500000, behavior_policy=random_policy)"
      ],
      "execution_count": 18,
      "outputs": [
        {
          "output_type": "stream",
          "text": [
            "Episode 500000/500000."
          ],
          "name": "stdout"
        }
      ]
    },
    {
      "cell_type": "markdown",
      "metadata": {
        "id": "8-JI56CiNv4t",
        "colab_type": "text"
      },
      "source": [
        "## Plot"
      ]
    },
    {
      "cell_type": "code",
      "metadata": {
        "id": "EnhabVkSJnzy",
        "colab_type": "code",
        "colab": {}
      },
      "source": [
        "import matplotlib.pyplot as plt\n",
        "from mpl_toolkits.axes_grid1 import make_axes_locatable\n",
        "\n",
        "\n",
        "def plot_policy(policy):\n",
        "\n",
        "    def get_Z(x, y, usable_ace):\n",
        "        if (x,y,usable_ace) in policy:\n",
        "            return policy[x,y,usable_ace]\n",
        "        else:\n",
        "            return 1\n",
        "\n",
        "    def get_figure(usable_ace, ax):\n",
        "        x_range = np.arange(11, 22)\n",
        "        y_range = np.arange(10, 0, -1)\n",
        "        X, Y = np.meshgrid(x_range, y_range)\n",
        "        Z = np.array([[get_Z(x,y,usable_ace) for x in x_range] for y in y_range])\n",
        "        surf = ax.imshow(Z, cmap=plt.get_cmap('Pastel2', 2), vmin=0, vmax=1, extent=[10.5, 21.5, 0.5, 10.5])\n",
        "        plt.xticks(x_range)\n",
        "        plt.yticks(y_range)\n",
        "        plt.gca().invert_yaxis()\n",
        "        ax.set_xlabel('Player\\'s Current Sum')\n",
        "        ax.set_ylabel('Dealer\\'s Showing Card')\n",
        "        ax.grid(color='w', linestyle='-', linewidth=1)\n",
        "        divider = make_axes_locatable(ax)\n",
        "        cax = divider.append_axes(\"right\", size=\"5%\", pad=0.1)\n",
        "        cbar = plt.colorbar(surf, ticks=[0,1], cax=cax)\n",
        "        cbar.ax.set_yticklabels(['0 (STICK)','1 (HIT)'])\n",
        "            \n",
        "    fig = plt.figure(figsize=(15, 15))\n",
        "    ax = fig.add_subplot(121)\n",
        "    ax.set_title('Usable Ace')\n",
        "    get_figure(True, ax)\n",
        "    ax = fig.add_subplot(122)\n",
        "    ax.set_title('No Usable Ace')\n",
        "    get_figure(False, ax)\n",
        "    plt.show()"
      ],
      "execution_count": 0,
      "outputs": []
    },
    {
      "cell_type": "code",
      "metadata": {
        "id": "BJtjvyfaKYf_",
        "colab_type": "code",
        "colab": {
          "base_uri": "https://localhost:8080/",
          "height": 401
        },
        "outputId": "17205553-b33d-40b8-e641-86258d3e4d88"
      },
      "source": [
        "policy = dict((k,np.argmax(v)) for k, v in Q.items())\n",
        "plot_policy(policy)"
      ],
      "execution_count": 20,
      "outputs": [
        {
          "output_type": "display_data",
          "data": {
            "image/png": "[encoded data removed]",
            "text/plain": [
              "<Figure size 1080x1080 with 4 Axes>"
            ]
          },
          "metadata": {
            "tags": []
          }
        }
      ]
    }
  ]
}